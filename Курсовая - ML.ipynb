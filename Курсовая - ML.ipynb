{
 "cells": [
  {
   "cell_type": "code",
   "execution_count": 98,
   "metadata": {
    "_cell_guid": "b1076dfc-b9ad-4769-8c92-a6c4dae69d19",
    "_uuid": "8f2839f25d086af736a60e9eeb907d3b93b6e0e5"
   },
   "outputs": [
    {
     "name": "stdout",
     "output_type": "stream",
     "text": [
      "['marketdata_sample.csv', 'news_sample.csv']\n"
     ]
    }
   ],
   "source": [
    "# This Python 3 environment comes with many helpful analytics libraries installed\n",
    "# It is defined by the kaggle/python docker image: https://github.com/kaggle/docker-python\n",
    "\n",
    "# Input data files are available in the \"../input/\" directory.\n",
    "# For example, running this (by clicking run or pressing Shift+Enter) will list the files in the input directory\n",
    "\n",
    "import os\n",
    "print(os.listdir(\"../input\"))\n",
    "\n",
    "# Any results you write to the current directory are saved as output."
   ]
  },
  {
   "cell_type": "markdown",
   "metadata": {},
   "source": []
  },
  {
   "cell_type": "code",
   "execution_count": 99,
   "metadata": {
    "_cell_guid": "79c7e3d0-c299-4dcb-8224-4455121ee9b0",
    "_uuid": "d629ff2d2480ee46fbb7e2d37f6b5fab8052498a"
   },
   "outputs": [],
   "source": [
    "import gc\n",
    "import matplotlib\n",
    "import matplotlib.pyplot as plt\n",
    "import seaborn as sns\n",
    "import numpy as np\n",
    "import pandas as pd\n",
    "import sklearn\n",
    "from sklearn.linear_model import LinearRegression\n",
    "from kaggle.competitions import twosigmanews"
   ]
  },
  {
   "cell_type": "code",
   "execution_count": 100,
   "metadata": {},
   "outputs": [],
   "source": [
    "import lightgbm as lgb\n",
    "import random\n",
    "from datetime import datetime, date\n",
    "from xgboost import XGBClassifier\n",
    "from lightgbm import LGBMClassifier\n",
    "from sklearn.metrics import log_loss\n",
    "from sklearn import model_selection\n",
    "from sklearn.model_selection import train_test_split\n",
    "from sklearn.metrics import mean_squared_error\n",
    "from catboost import CatBoostRegressor\n",
    "import time"
   ]
  },
  {
   "cell_type": "code",
   "execution_count": 101,
   "metadata": {},
   "outputs": [
    {
     "ename": "Exception",
     "evalue": "You can only make one environment for this competition.",
     "output_type": "error",
     "traceback": [
      "\u001b[0;31m---------------------------------------------------------------------------\u001b[0m",
      "\u001b[0;31mException\u001b[0m                                 Traceback (most recent call last)",
      "\u001b[0;32m<ipython-input-101-592030c0003a>\u001b[0m in \u001b[0;36m<module>\u001b[0;34m()\u001b[0m\n\u001b[0;32m----> 1\u001b[0;31m \u001b[0menv\u001b[0m \u001b[0;34m=\u001b[0m \u001b[0mtwosigmanews\u001b[0m\u001b[0;34m.\u001b[0m\u001b[0mmake_env\u001b[0m\u001b[0;34m(\u001b[0m\u001b[0;34m)\u001b[0m\u001b[0;34m\u001b[0m\u001b[0m\n\u001b[0m\u001b[1;32m      2\u001b[0m \u001b[0;34m(\u001b[0m\u001b[0mmarket_train_df\u001b[0m\u001b[0;34m,\u001b[0m \u001b[0mnews_train_df\u001b[0m\u001b[0;34m)\u001b[0m \u001b[0;34m=\u001b[0m \u001b[0menv\u001b[0m\u001b[0;34m.\u001b[0m\u001b[0mget_training_data\u001b[0m\u001b[0;34m(\u001b[0m\u001b[0;34m)\u001b[0m\u001b[0;34m\u001b[0m\u001b[0m\n",
      "\u001b[0;32m/kaggle/lib/kaggle/competitions/twosigmanews/__init__.py\u001b[0m in \u001b[0;36mmake_env\u001b[0;34m()\u001b[0m\n\u001b[1;32m     11\u001b[0m \u001b[0;32mdef\u001b[0m \u001b[0mmake_env\u001b[0m\u001b[0;34m(\u001b[0m\u001b[0;34m)\u001b[0m\u001b[0;34m:\u001b[0m\u001b[0;34m\u001b[0m\u001b[0m\n\u001b[1;32m     12\u001b[0m     \u001b[0;34m\"\"\"Returns a new environment supporting the Two Sigma News competition.\"\"\"\u001b[0m\u001b[0;34m\u001b[0m\u001b[0m\n\u001b[0;32m---> 13\u001b[0;31m     \u001b[0;32mreturn\u001b[0m \u001b[0menv\u001b[0m\u001b[0;34m.\u001b[0m\u001b[0mTwoSigmaNewsEnv\u001b[0m\u001b[0;34m(\u001b[0m\u001b[0;34m)\u001b[0m\u001b[0;34m\u001b[0m\u001b[0m\n\u001b[0m\u001b[1;32m     14\u001b[0m \u001b[0;34m\u001b[0m\u001b[0m\n\u001b[1;32m     15\u001b[0m \u001b[0m__all__\u001b[0m \u001b[0;34m=\u001b[0m \u001b[0;34m[\u001b[0m\u001b[0;34m'make_env'\u001b[0m\u001b[0;34m]\u001b[0m\u001b[0;34m\u001b[0m\u001b[0m\n",
      "\u001b[0;32m/kaggle/lib/kaggle/competitions/twosigmanews/env.py\u001b[0m in \u001b[0;36m__init__\u001b[0;34m(self)\u001b[0m\n\u001b[1;32m    151\u001b[0m         \u001b[0;32mif\u001b[0m \u001b[0mTwoSigmaNewsEnv\u001b[0m\u001b[0;34m.\u001b[0m\u001b[0m_state\u001b[0m \u001b[0;34m!=\u001b[0m \u001b[0m_var03\u001b[0m\u001b[0;34m.\u001b[0m\u001b[0m_var04\u001b[0m\u001b[0;34m:\u001b[0m\u001b[0;34m\u001b[0m\u001b[0m\n\u001b[1;32m    152\u001b[0m             raise Exception(\n\u001b[0;32m--> 153\u001b[0;31m                     'You can only make one environment for this competition.')\n\u001b[0m\u001b[1;32m    154\u001b[0m \u001b[0;34m\u001b[0m\u001b[0m\n\u001b[1;32m    155\u001b[0m         \u001b[0;32mdef\u001b[0m \u001b[0mon_load_failure\u001b[0m\u001b[0;34m(\u001b[0m\u001b[0;34m)\u001b[0m\u001b[0;34m:\u001b[0m\u001b[0;34m\u001b[0m\u001b[0m\n",
      "\u001b[0;31mException\u001b[0m: You can only make one environment for this competition."
     ]
    }
   ],
   "source": [
    "env = twosigmanews.make_env()\n",
    "(market_train_df, news_train_df) = env.get_training_data()\n"
   ]
  },
  {
   "cell_type": "markdown",
   "metadata": {},
   "source": [
    "**Market data preprocessing**"
   ]
  },
  {
   "cell_type": "code",
   "execution_count": null,
   "metadata": {},
   "outputs": [],
   "source": [
    "def test_period(df):\n",
    "    \n",
    "    df = df.loc[df['time'] >= date(2019, 1, 8)]\n",
    "    df = df.loc[df['time']<date(2019, 5, 9)]\n",
    "    \n",
    "    return df\n",
    "\n",
    "def test_market_prep(df):\n",
    "   # Shift -11 days gives us returnsOpenNextMktres10\n",
    "    df['returnsOpenNextMktres10'] = df.groupby(['assetCode'])['returnsOpenPrevMktres10'].shift(-11).fillna(0)\n",
    "    \n",
    "    df['time'] = df['time'].dt.date\n",
    "    \n",
    "    df = df.loc[df['time']>=date(2009, 1, 1)]\n",
    "    df = test_period(df)\n",
    "    return df"
   ]
  },
  {
   "cell_type": "code",
   "execution_count": null,
   "metadata": {},
   "outputs": [],
   "source": [
    "market_obs_df = None\n",
    "pred_df = None\n",
    "news_test_df = None\n",
    "\n",
    "for (m_df, n_df, predictions_template_df) in env.get_prediction_days():\n",
    "    env.predict(predictions_template_df)\n",
    "    predictions_template_df['time'] = m_df.time.min()\n",
    "    m_df = m_df[m_df['time'] > \"2019-01-01\"]\n",
    "    n_df = n_df[n_df['time'] > \"2019-01-01\"]\n",
    "    \n",
    "    if m_df is not None:\n",
    "        if market_obs_df is None:\n",
    "            market_obs_df = m_df\n",
    "            pred_df = predictions_template_df\n",
    "        else:\n",
    "            market_obs_df = market_obs_df.append(m_df, ignore_index=True)\n",
    "            pred_df = pred_df.append(predictions_template_df, ignore_index=True)\n",
    "            \n",
    "    if n_df is not None:\n",
    "        if news_test_df is None:\n",
    "            news_test_df = n_df\n",
    "        else:\n",
    "            news_test_df = news_test_df.append(n_df, ignore_index=True)"
   ]
  },
  {
   "cell_type": "code",
   "execution_count": null,
   "metadata": {},
   "outputs": [],
   "source": [
    "news_test_df"
   ]
  },
  {
   "cell_type": "code",
   "execution_count": null,
   "metadata": {},
   "outputs": [],
   "source": [
    "test_df = test_market_prep(market_obs_df)"
   ]
  },
  {
   "cell_type": "code",
   "execution_count": null,
   "metadata": {},
   "outputs": [],
   "source": [
    "test_df"
   ]
  },
  {
   "cell_type": "code",
   "execution_count": null,
   "metadata": {},
   "outputs": [],
   "source": [
    "def preprocess_train_market(market_data):\n",
    "    market_cols = ['time', 'assetCode', 'volume', 'returnsOpenPrevMktres1', 'returnsOpenPrevMktres10', 'returnsOpenNextMktres10']\n",
    "    market_data = market_data[market_cols]\n",
    "    \n",
    "    market_data['time'] = market_data['time'].dt.date\n",
    "    market_data = market_data.loc[market_data['time']>=date(2009, 1, 1)]\n",
    "    \n",
    "    market_data['moving'] = market_data.groupby(['assetCode'])['volume'].transform(lambda x: x.rolling(10, 10).mean())\n",
    "    market_data['volume_dev'] = market_data['volume']/market_data['moving']\n",
    "    \n",
    "    #market_data = market_data.dropna(subset = ['volume_dev'])\n",
    "    market_data = market_data.drop(columns = ['moving', 'volume'])\n",
    "    \n",
    "    \n",
    "    return market_data\n",
    "\n",
    "def preprocess_test_market(market_data):\n",
    "    market_cols = ['time', 'assetCode', 'volume', 'returnsOpenPrevMktres1', 'returnsOpenPrevMktres10', 'returnsOpenNextMktres10']\n",
    "    market_data = market_data[market_cols]\n",
    "    \n",
    "    market_data['moving'] = market_data.groupby(['assetCode'])['volume'].transform(lambda x: x.rolling(10, 10).mean())\n",
    "    market_data['volume_dev'] = market_data['volume']/market_data['moving']\n",
    "    \n",
    "    #market_data = market_data.dropna(subset = ['returnsOpenPrevMktres10', 'volume_dev'])\n",
    "    market_data = market_data.drop(columns = ['moving', 'volume'])\n",
    "    \n",
    "    \n",
    "    return market_data"
   ]
  },
  {
   "cell_type": "code",
   "execution_count": null,
   "metadata": {},
   "outputs": [],
   "source": [
    "market_train = preprocess_train_market(market_train_df)\n",
    "market_test = preprocess_test_market(test_df)\n",
    "market_train.head()"
   ]
  },
  {
   "cell_type": "markdown",
   "metadata": {},
   "source": [
    "**News data preprocessing**"
   ]
  },
  {
   "cell_type": "code",
   "execution_count": null,
   "metadata": {},
   "outputs": [],
   "source": [
    "def preprocess_news(news_df):\n",
    "    \n",
    "    \n",
    "    # Factorize categorical columns\n",
    "    for col in ['headlineTag', 'provider', 'sourceId']:\n",
    "        news_df[col], uniques = pd.factorize(news_df[col])\n",
    "        del uniques\n",
    "    \n",
    "    # Remove {} and '' from assetCodes column\n",
    "    news_df['assetCodes'] = news_df['assetCodes'].apply(lambda x: x[1:-1].replace(\"'\", \"\"))\n",
    "    \n",
    "    # Filter for asset-specific data\n",
    "    news_df[news_df['marketCommentary'] == False]\n",
    "    #news_df[news_df['urgency'] == 3]\n",
    "    \n",
    "    news_df['shareWordCount'] = news_df['sentimentWordCount'] / news_df['wordCount']\n",
    "    \n",
    "    # Leave only main columns\n",
    "    news_cols = ['time', 'sourceId','assetCodes', 'shareWordCount', 'sentimentPositive', 'volumeCounts24H', 'volumeCounts7D', 'headline']\n",
    "    news_df = news_df[news_cols]\n",
    "    \n",
    "    # Filter for values between 2009 and 2018\n",
    "    news_df['time'] = news_df['time'].dt.date\n",
    "    news_df = news_df.loc[news_df['time']>=date(2009, 1, 1)]\n",
    "    \n",
    "    return news_df\n",
    "\n",
    "news_train_df = preprocess_news(news_train_df)\n",
    "\n",
    "news_test_df = preprocess_news(news_test_df)\n",
    "news_test_df = test_period(news_test_df)\n",
    "news_train_df.tail()"
   ]
  },
  {
   "cell_type": "code",
   "execution_count": null,
   "metadata": {},
   "outputs": [],
   "source": [
    "news_train_df.head()"
   ]
  },
  {
   "cell_type": "code",
   "execution_count": null,
   "metadata": {},
   "outputs": [],
   "source": [
    "def unstack_asset_codes(news_df):\n",
    "    codes = []\n",
    "    indexes = []\n",
    "    for i, values in news_df['assetCodes'].iteritems():\n",
    "        explode = values.split(\", \")\n",
    "        codes.extend(explode)\n",
    "        repeat_index = [int(i)]*len(explode)\n",
    "        indexes.extend(repeat_index)\n",
    "    index_df = pd.DataFrame({'news_index': indexes, 'assetCode': codes})\n",
    "    del codes, indexes\n",
    "    gc.collect()\n",
    "    return index_df\n",
    "\n",
    "index_train_df = unstack_asset_codes(news_train_df)\n",
    "index_test_df = unstack_asset_codes(news_test_df)\n",
    "index_train_df.head()"
   ]
  },
  {
   "cell_type": "code",
   "execution_count": null,
   "metadata": {},
   "outputs": [],
   "source": [
    "def merge_news_on_index(news_train_df, index_df):\n",
    "    news_train_df['news_index'] = news_train_df.index.copy()\n",
    "\n",
    "    # Merge news on unstacked assets\n",
    "    news_unstack = index_df.merge(news_train_df, how='left', on='news_index')\n",
    "    news_unstack.drop(['news_index', 'assetCodes'], axis=1, inplace=True)\n",
    "    return news_unstack\n",
    "\n",
    "def aggregate_news(news_df):\n",
    "    news_df = news_df.groupby(['assetCode', 'time'], as_index=False).agg('mean')\n",
    "\n",
    "    return news_df\n",
    "\n",
    "\n",
    "news_train_unstack = merge_news_on_index(news_train_df, index_train_df)\n",
    "del news_train_df, index_train_df\n",
    "\n",
    "news_test_unstack = merge_news_on_index(news_test_df, index_test_df)\n",
    "del news_test_df, index_test_df\n",
    "\n",
    "news_train_unstack.head()"
   ]
  },
  {
   "cell_type": "markdown",
   "metadata": {},
   "source": [
    "Let's check whether there are several records that belong to the same asset at the same day"
   ]
  },
  {
   "cell_type": "code",
   "execution_count": null,
   "metadata": {},
   "outputs": [],
   "source": [
    "df = news_train_unstack.loc[news_train_unstack['time'] <= date(2011, 1, 1)]\n",
    "group = df.groupby(['assetCode', 'time']).size()\n",
    "group.head()"
   ]
  },
  {
   "cell_type": "markdown",
   "metadata": {},
   "source": [
    "Thus, the data must be aggregated at the day level"
   ]
  },
  {
   "cell_type": "code",
   "execution_count": null,
   "metadata": {},
   "outputs": [],
   "source": [
    "news_train = aggregate_news(news_train_unstack)\n",
    "news_test = aggregate_news(news_test_unstack)\n",
    "\n",
    "news_train.head()"
   ]
  },
  {
   "cell_type": "code",
   "execution_count": null,
   "metadata": {},
   "outputs": [],
   "source": [
    "df = news_train.loc[news_train['time'] <= date(2011, 1, 1)]\n",
    "group = df.groupby(['assetCode', 'time']).size()\n",
    "group.head()"
   ]
  },
  {
   "cell_type": "markdown",
   "metadata": {},
   "source": [
    "**Merge of news data with market data**"
   ]
  },
  {
   "cell_type": "code",
   "execution_count": null,
   "metadata": {},
   "outputs": [],
   "source": [
    "x_train = market_train.merge(news_train, how='left', on=['assetCode', 'time'])\n",
    "x_test = market_test.merge(news_test, how='left', on=['assetCode', 'time'])\n",
    "\n",
    "x_train = x_train[x_train['returnsOpenNextMktres10'] <= np.percentile(x_train['returnsOpenNextMktres10'], 99)]\n",
    "x_train = x_train[x_train['returnsOpenNextMktres10'] >= np.percentile(x_train['returnsOpenNextMktres10'], 1)]"
   ]
  },
  {
   "cell_type": "code",
   "execution_count": null,
   "metadata": {},
   "outputs": [],
   "source": [
    "y_test = x_test[['returnsOpenNextMktres10', 'time']]\n",
    "y_train = x_train[['returnsOpenNextMktres10', 'time']]\n",
    "\n",
    "\n",
    "#del market_train, news_agg\n",
    "gc.collect()\n",
    "\n",
    "x_train = x_train.fillna(0)\n",
    "x_test = x_test.fillna(0)\n",
    "\n",
    "x_train.head(10)"
   ]
  },
  {
   "cell_type": "code",
   "execution_count": null,
   "metadata": {},
   "outputs": [],
   "source": [
    "def features_eng(data):\n",
    "    \n",
    "    \n",
    "    data['moving'] = data.groupby(['assetCode'])['volumeCounts24H'].transform(lambda x: x.rolling(10, 10).mean())\n",
    "    data['volumeCounts24H_dev'] = (data['volumeCounts24H']/data['moving']) - 1\n",
    "    data = data.drop(columns = ['moving'])\n",
    "    \n",
    "    data['moving'] = data.groupby(['assetCode'])['volumeCounts7D'].transform(lambda x: x.rolling(10, 10).mean())\n",
    "    data['volumeCounts7D_dev'] = (data['volumeCounts7D']/data['moving']) - 1\n",
    "    data = data.drop(columns = ['moving'])\n",
    "    \n",
    "    data['moving'] = data.groupby(['assetCode'])['sentimentPositive'].transform(lambda x: x.rolling(10, 10).mean())\n",
    "    data['sentimentPositive_dev'] = (data['sentimentPositive']/data['moving']) - 1\n",
    "    \n",
    "\n",
    "    data = data.drop(columns = ['moving', 'sentimentPositive'])\n",
    "    \n",
    "    \n",
    "    result = pd.DataFrame({'time' : data['time'], '24H' : data[\"volumeCounts24H\"], '7D' : data['volumeCounts7D']})\n",
    "    max_values = result.groupby('time').max().values\n",
    "    dates = pd.DataFrame(data['time'].unique(), columns = ['date'])\n",
    "    merged_df = pd.DataFrame(np.concatenate((max_values, dates), axis = 1), columns = ['max_24H', 'max_7D', 'time'])\n",
    "    \n",
    "    data = merged_df.merge(data, how='left', on=['time'])\n",
    "    \n",
    "    data['max_24H'] = pd.to_numeric(data['max_24H'], errors='coerce').fillna(0)\n",
    "    data['max_7D'] = pd.to_numeric(data['max_7D'], errors='coerce').fillna(0)\n",
    "    \n",
    "    data['hype24H'] = data['volumeCounts24H']/data['max_24H']\n",
    "    data['hype7D'] = data['volumeCounts7D']/data['max_7D']\n",
    "    \n",
    "    \n",
    "    data['volumeCounts24H_dev'] = data['volumeCounts24H_dev'].fillna(0)\n",
    "    data['volumeCounts7D_dev'] = data['volumeCounts7D_dev'].fillna(0)\n",
    "    data['sentimentPositive_dev'] = data['sentimentPositive_dev'].fillna(0)\n",
    "    \n",
    "    data = data.drop(columns = ['volumeCounts7D', 'volumeCounts24H', 'max_7D', 'max_24H'])\n",
    "    data = data.dropna(subset = ['returnsOpenPrevMktres10'])\n",
    "    \n",
    "    return data"
   ]
  },
  {
   "cell_type": "code",
   "execution_count": null,
   "metadata": {},
   "outputs": [],
   "source": [
    "x_test_original = features_eng(x_test)\n",
    "\n",
    "x_train = features_eng(x_train)\n",
    "x_test = features_eng(x_test)\n",
    "\n"
   ]
  },
  {
   "cell_type": "markdown",
   "metadata": {},
   "source": [
    "**LGBM And XGB Classifier.Train and Validation**"
   ]
  },
  {
   "cell_type": "code",
   "execution_count": null,
   "metadata": {},
   "outputs": [],
   "source": [
    "num_target = x_train.returnsOpenNextMktres10.astype('float32')\n",
    "bin_target = (x_train.returnsOpenNextMktres10 >= 0).astype('int8')\n",
    "\n",
    "# Drop columns that are not features\n",
    "x_train.drop(['sourceId', 'assetCode', 'time', 'returnsOpenNextMktres10'], axis=1, inplace=True)\n",
    "x_test.drop(['sourceId', 'assetCode', 'time', 'returnsOpenNextMktres10'], axis=1, inplace=True)\n",
    "gc.collect()"
   ]
  },
  {
   "cell_type": "code",
   "execution_count": 125,
   "metadata": {},
   "outputs": [],
   "source": [
    "bin_y_test = (y_test.returnsOpenNextMktres10 >= 0).astype('int8')"
   ]
  },
  {
   "cell_type": "code",
   "execution_count": null,
   "metadata": {},
   "outputs": [],
   "source": [
    "train_index, validation_index = train_test_split(x_train.index.values, test_size=0.1, shuffle=False)"
   ]
  },
  {
   "cell_type": "code",
   "execution_count": null,
   "metadata": {},
   "outputs": [],
   "source": [
    "def evaluate_model_LGBM(df, target, train_index, validation_index, params):\n",
    "    params['n_jobs'] = 2  # Use 2 cores/threads\n",
    "    model = LGBMClassifier(**params)\n",
    "    model.fit(df.iloc[train_index], target.iloc[train_index])\n",
    "    return log_loss(target.iloc[validation_index], model.predict_proba(df.iloc[validation_index]))\n",
    "\n",
    "def evaluate_model_XGB(df, target, train_index, validation_index, params):\n",
    "    params['n_jobs'] = 2  # Use 2 cores/threads\n",
    "    model = XGBClassifier(**params)\n",
    "    model.fit(df.iloc[train_index], target.iloc[train_index])\n",
    "    return log_loss(target.iloc[validation_index], model.predict_proba(df.iloc[validation_index]))"
   ]
  },
  {
   "cell_type": "code",
   "execution_count": null,
   "metadata": {},
   "outputs": [],
   "source": [
    "main_params = {'learning_rate': 0.15,\n",
    " 'num_leaves': 72,\n",
    " 'n_estimators': 600,\n",
    " 'min_child_samples': 30,\n",
    " 'colsample_bytree': 1.0,\n",
    " 'subsample': 0.95,\n",
    " 'reg_alpha': 0.1,\n",
    " 'reg_lambda': 0.8,\n",
    " 'n_jobs': 2}"
   ]
  },
  {
   "cell_type": "code",
   "execution_count": null,
   "metadata": {},
   "outputs": [],
   "source": [
    "#score = evaluate_model_LGBM(x_train, bin_target, train_index, validation_index, main_params)\n",
    "#score"
   ]
  },
  {
   "cell_type": "code",
   "execution_count": null,
   "metadata": {},
   "outputs": [],
   "source": [
    "#log_loss(bin_target.iloc[train_index], model.predict_proba(df.iloc[validation_index]))"
   ]
  },
  {
   "cell_type": "code",
   "execution_count": null,
   "metadata": {},
   "outputs": [],
   "source": [
    "#score = evaluate_model_XGB(x_train, bin_target, train_index, validation_index, main_params)\n",
    "#score"
   ]
  },
  {
   "cell_type": "markdown",
   "metadata": {},
   "source": [
    "param_grid = {\n",
    "    'learning_rate': [0.2, 0.15, 0.1, 0.05, 0.02, 0.01],\n",
    "    'num_leaves': [i for i in range(12, 90, 6)],\n",
    "    'n_estimators': [50, 200, 400, 600, 800],\n",
    "    'min_child_samples': [i for i in range(10, 100, 10)],\n",
    "    'colsample_bytree': [0.8, 0.9, 0.95, 1],\n",
    "    'subsample': [0.8, 0.9, 0.95, 1],\n",
    "    'reg_alpha': [0.1, 0.2, 0.4, 0.6, 0.8],\n",
    "    'reg_lambda': [0.1, 0.2, 0.4, 0.6, 0.8],\n",
    "}\n",
    "\n",
    "best_eval_score = 0\n",
    "for i in range(100):  # Hundred runs\n",
    "    params = {k: np.random.choice(v) for k, v in param_grid.items()}\n",
    "    score = evaluate_model_LGBM(x_train, bin_target, train_index, validation_index, params)\n",
    "    if score < best_eval_score or best_eval_score == 0:\n",
    "        best_eval_score = score\n",
    "        best_params = params\n",
    "print(\"Best evaluation logloss\", best_eval_score)"
   ]
  },
  {
   "cell_type": "code",
   "execution_count": null,
   "metadata": {},
   "outputs": [],
   "source": [
    "clf = LGBMClassifier(**main_params)\n",
    "clf.fit(x_train.iloc[train_index], bin_target.iloc[train_index])\n",
    "predict_proba = clf.predict_proba(x_train.iloc[validation_index])"
   ]
  },
  {
   "cell_type": "code",
   "execution_count": null,
   "metadata": {},
   "outputs": [],
   "source": [
    "len(predict_proba)"
   ]
  },
  {
   "cell_type": "code",
   "execution_count": null,
   "metadata": {},
   "outputs": [],
   "source": [
    "def column(matrix, i):\n",
    "    return [row[i] for row in matrix]\n",
    "\n",
    "def custom_metric(predict_proba, y_train):\n",
    "    predict_proba = pd.DataFrame(column(predict_proba, 1))\n",
    "    y = predict_proba*2 - 1\n",
    "    x = y * y_train.iloc[validation_index].returnsOpenNextMktres10.values.reshape((len(predict_proba), 1))\n",
    "    merge = pd.DataFrame(np.concatenate((x, y_train.iloc[validation_index]), axis = 1), columns = [\"conf_val*returns\", \"col\", \"time\"])\n",
    "    result = pd.DataFrame({'day' : merge['time'], 'x' : merge[\"conf_val*returns\"]})\n",
    "    x_t = result.groupby('day').sum().values\n",
    "    \n",
    "    return np.mean(x_t) / np.std(x_t)"
   ]
  },
  {
   "cell_type": "code",
   "execution_count": null,
   "metadata": {},
   "outputs": [],
   "source": [
    "custom_metric(predict_proba, y_train)"
   ]
  },
  {
   "cell_type": "code",
   "execution_count": null,
   "metadata": {},
   "outputs": [],
   "source": [
    "def plot_x_t_val(predict_proba, y_train):\n",
    "    predict_proba = pd.DataFrame(column(predict_proba, 1))\n",
    "    y = predict_proba*2 - 1\n",
    "    x = y * y_train.iloc[validation_index].returnsOpenNextMktres10.values.reshape((len(predict_proba), 1))\n",
    "    merge = pd.DataFrame(np.concatenate((x, y_train.iloc[validation_index]), axis = 1), columns = [\"conf_val*returns\", \"col\", \"time\"])\n",
    "    result = pd.DataFrame({'day' : merge['time'], 'x' : merge[\"conf_val*returns\"]})\n",
    "    x_t = result.groupby('day').sum().values\n",
    "    \n",
    "    x_axis = result['day'].unique()\n",
    "    plt.plot_date(x_axis, x_t, linestyle = 'solid', marker = 'None', fmt = 'M')\n",
    "    plt.setp(plt.gca().xaxis.get_majorticklabels(),\n",
    "         'rotation', 90)\n",
    "    plt.gca().xaxis.set_major_locator(matplotlib.dates.MonthLocator())\n",
    "    return plt.show()"
   ]
  },
  {
   "cell_type": "code",
   "execution_count": null,
   "metadata": {},
   "outputs": [],
   "source": [
    "plot_x_t_val(predict_proba, y_train)"
   ]
  },
  {
   "cell_type": "code",
   "execution_count": null,
   "metadata": {},
   "outputs": [],
   "source": [
    "lgb.plot_importance(clf, max_num_features=10)"
   ]
  },
  {
   "cell_type": "code",
   "execution_count": null,
   "metadata": {},
   "outputs": [],
   "source": [
    "corr_train = x_train.corr()\n",
    "corr_train.style.background_gradient(cmap='coolwarm')"
   ]
  },
  {
   "cell_type": "code",
   "execution_count": null,
   "metadata": {},
   "outputs": [],
   "source": [
    "corr_test = x_test.corr()\n",
    "corr_test.style.background_gradient(cmap='coolwarm')"
   ]
  },
  {
   "cell_type": "markdown",
   "metadata": {},
   "source": [
    "**LGBM Classifier Test**"
   ]
  },
  {
   "cell_type": "code",
   "execution_count": null,
   "metadata": {},
   "outputs": [],
   "source": [
    "predict_pro = clf.predict_proba(x_test)"
   ]
  },
  {
   "cell_type": "code",
   "execution_count": null,
   "metadata": {},
   "outputs": [],
   "source": [
    "#2018 - 430823\n",
    "\n",
    "def cust_metric(predict_proba, y_values):\n",
    "    predict_proba = pd.DataFrame(column(predict_proba, 1))\n",
    "    y = predict_proba*2 - 1\n",
    "    x = y * y_values.returnsOpenNextMktres10.values.reshape((173938, 1))\n",
    "    merge = pd.DataFrame(np.concatenate((x, y_values), axis = 1), columns = [\"conf_val*returns\", \"col\", \"time\"])\n",
    "    result = pd.DataFrame({'day' : merge['time'], 'x' : merge[\"conf_val*returns\"]})\n",
    "    x_t = result.groupby('day').sum().values\n",
    "    return np.mean(x_t)/ np.std(x_t)"
   ]
  },
  {
   "cell_type": "code",
   "execution_count": null,
   "metadata": {},
   "outputs": [],
   "source": [
    "cust_metric(predict_pro, y_test)"
   ]
  },
  {
   "cell_type": "code",
   "execution_count": null,
   "metadata": {},
   "outputs": [],
   "source": [
    "def plot_x_t_test(predict_proba, y_values):\n",
    "    predict_proba = pd.DataFrame(column(predict_proba, 1))\n",
    "    y = predict_proba*2 - 1\n",
    "    x = y * y_values.returnsOpenNextMktres10.values.reshape((173938, 1))\n",
    "    merge = pd.DataFrame(np.concatenate((x, y_values), axis = 1), columns = [\"conf_val*returns\", \"col\", \"time\"])\n",
    "    result = pd.DataFrame({'day' : merge['time'], 'x' : merge[\"conf_val*returns\"]})\n",
    "    x_t = result.groupby('day').sum().values\n",
    "    \n",
    "    x_axis = result['day'].unique()\n",
    "    plt.plot_date(x_axis, x_t, linestyle = 'solid', marker = 'None', fmt = 'M')\n",
    "    plt.setp(plt.gca().xaxis.get_majorticklabels(),\n",
    "         'rotation', 90)\n",
    "\n",
    "    plt.gca().xaxis.set_major_locator(matplotlib.dates.MonthLocator())\n",
    "    return plt.show()"
   ]
  },
  {
   "cell_type": "code",
   "execution_count": 102,
   "metadata": {},
   "outputs": [
    {
     "data": {
      "image/png": "[encoded data removed]",
      "text/plain": [
       "<Figure size 432x288 with 1 Axes>"
      ]
     },
     "metadata": {},
     "output_type": "display_data"
    }
   ],
   "source": [
    "plot_x_t_test(predict_pro, y_test)"
   ]
  },
  {
   "cell_type": "code",
   "execution_count": 127,
   "metadata": {},
   "outputs": [
    {
     "data": {
      "text/plain": [
       "0.676570704518276"
      ]
     },
     "execution_count": 127,
     "metadata": {},
     "output_type": "execute_result"
    }
   ],
   "source": [
    "log_loss(bin_y_test, clf.predict_proba(x_test))"
   ]
  },
  {
   "cell_type": "code",
   "execution_count": 135,
   "metadata": {},
   "outputs": [
    {
     "data": {
      "text/plain": [
       "0.5718301923673953"
      ]
     },
     "execution_count": 135,
     "metadata": {},
     "output_type": "execute_result"
    }
   ],
   "source": [
    "clf.score(x_test, bin_y_test)"
   ]
  },
  {
   "cell_type": "markdown",
   "metadata": {},
   "source": [
    "**Catboost**"
   ]
  },
  {
   "cell_type": "code",
   "execution_count": null,
   "metadata": {},
   "outputs": [],
   "source": [
    "modelstart= time.time()\n",
    "cb_model = CatBoostRegressor(iterations=700,\n",
    "                             learning_rate=0.15,\n",
    "                             depth=12,\n",
    "                             eval_metric='RMSE',\n",
    "                             random_seed = 23,\n",
    "                             bagging_temperature = 0.2,\n",
    "                             od_type='Iter',\n",
    "                             metric_period = 75,\n",
    "                             od_wait=100)\n",
    "x_train.iloc[train_index], bin_target.iloc[train_index]\n",
    "cb_model.fit(x_train.iloc[train_index], bin_target.iloc[train_index],\n",
    "             eval_set=(x_train.iloc[validation_index],bin_target.iloc[validation_index]),\n",
    "             use_best_model=True)"
   ]
  },
  {
   "cell_type": "code",
   "execution_count": null,
   "metadata": {},
   "outputs": [],
   "source": [
    "catpred = cb_model.predict(x_test)"
   ]
  },
  {
   "cell_type": "code",
   "execution_count": null,
   "metadata": {},
   "outputs": [],
   "source": [
    "def cat_metric(predict_proba, y_values):\n",
    "    predict_proba = np.expand_dims(predict_proba, axis=1)\n",
    "    predict_proba = pd.DataFrame(column(predict_proba, 0))\n",
    "    y = predict_proba*2 - 1\n",
    "    \n",
    "    x = y * y_values.returnsOpenNextMktres10.values.reshape((173938, 1))\n",
    "    merge = pd.DataFrame(np.concatenate((x, y_values), axis = 1), columns = [\"conf_val*returns\", \"col\", \"time\"])\n",
    "    result = pd.DataFrame({'day' : merge['time'], 'x' : merge[\"conf_val*returns\"]})\n",
    "    x_t = result.groupby('day').sum().values\n",
    "    return np.mean(x_t) / np.std(x_t)"
   ]
  },
  {
   "cell_type": "code",
   "execution_count": null,
   "metadata": {},
   "outputs": [],
   "source": [
    "cat_metric(catpred, y_test)"
   ]
  },
  {
   "cell_type": "code",
   "execution_count": null,
   "metadata": {},
   "outputs": [],
   "source": [
    "def plot_cat_test(predict_proba, y_values):\n",
    "    predict_proba = np.expand_dims(predict_proba, axis=1)\n",
    "    predict_proba = pd.DataFrame(column(predict_proba, 0))\n",
    "    y = predict_proba*2 - 1\n",
    "    \n",
    "    x = y * y_values.returnsOpenNextMktres10.values.reshape((173938, 1))\n",
    "    merge = pd.DataFrame(np.concatenate((x, y_values), axis = 1), columns = [\"conf_val*returns\", \"col\", \"time\"])\n",
    "    result = pd.DataFrame({'day' : merge['time'], 'x' : merge[\"conf_val*returns\"]})\n",
    "    x_t = result.groupby('day').sum().values\n",
    "    \n",
    "    x_axis = result['day'].unique()\n",
    "    plt.plot_date(x_axis, x_t, linestyle = 'solid', marker = 'None', fmt = 'M')\n",
    "    plt.setp(plt.gca().xaxis.get_majorticklabels(),\n",
    "         'rotation', 90)\n",
    "\n",
    "    plt.gca().xaxis.set_major_locator(matplotlib.dates.MonthLocator())\n",
    "    return plt.show()"
   ]
  },
  {
   "cell_type": "code",
   "execution_count": null,
   "metadata": {},
   "outputs": [],
   "source": [
    "plot_cat_test(catpred, y_test)"
   ]
  },
  {
   "cell_type": "code",
   "execution_count": 129,
   "metadata": {},
   "outputs": [
    {
     "data": {
      "text/plain": [
       "0.67777720155086"
      ]
     },
     "execution_count": 129,
     "metadata": {},
     "output_type": "execute_result"
    }
   ],
   "source": [
    "log_loss(bin_y_test, cb_model.predict(x_test))"
   ]
  },
  {
   "cell_type": "code",
   "execution_count": 134,
   "metadata": {},
   "outputs": [
    {
     "data": {
      "text/plain": [
       "0.49236248264413096"
      ]
     },
     "execution_count": 134,
     "metadata": {},
     "output_type": "execute_result"
    }
   ],
   "source": [
    "cb_model.score(x_test, bin_y_test)"
   ]
  },
  {
   "cell_type": "code",
   "execution_count": null,
   "metadata": {},
   "outputs": [],
   "source": [
    "cb_model.get_feature_importance()"
   ]
  },
  {
   "cell_type": "markdown",
   "metadata": {},
   "source": [
    "**Logistic regression**"
   ]
  },
  {
   "cell_type": "code",
   "execution_count": null,
   "metadata": {},
   "outputs": [],
   "source": [
    "from sklearn.linear_model import LogisticRegression\n",
    "logreg = LogisticRegression()"
   ]
  },
  {
   "cell_type": "code",
   "execution_count": null,
   "metadata": {},
   "outputs": [],
   "source": [
    "logreg.fit(x_train, bin_target)\n",
    "log_proba_pred = logreg.predict_proba(x_test)"
   ]
  },
  {
   "cell_type": "code",
   "execution_count": null,
   "metadata": {},
   "outputs": [],
   "source": [
    "cust_metric(log_proba_pred, y_test)"
   ]
  },
  {
   "cell_type": "code",
   "execution_count": null,
   "metadata": {},
   "outputs": [],
   "source": [
    "plot_x_t_test(log_proba_pred, y_test)"
   ]
  },
  {
   "cell_type": "code",
   "execution_count": 130,
   "metadata": {},
   "outputs": [
    {
     "data": {
      "text/plain": [
       "0.6839869156165957"
      ]
     },
     "execution_count": 130,
     "metadata": {},
     "output_type": "execute_result"
    }
   ],
   "source": [
    "log_loss(bin_y_test, logreg.predict_proba(x_test))"
   ]
  },
  {
   "cell_type": "code",
   "execution_count": 133,
   "metadata": {},
   "outputs": [
    {
     "data": {
      "text/plain": [
       "0.578470489484759"
      ]
     },
     "execution_count": 133,
     "metadata": {},
     "output_type": "execute_result"
    }
   ],
   "source": [
    "logreg.score(x_test, bin_y_test)"
   ]
  },
  {
   "cell_type": "markdown",
   "metadata": {},
   "source": [
    "**Linear Regression Train and Validation**"
   ]
  },
  {
   "cell_type": "code",
   "execution_count": null,
   "metadata": {},
   "outputs": [],
   "source": [
    "reg = LinearRegression().fit(x_train.iloc[train_index], num_target.iloc[train_index])\n",
    "reg.score(x_train.iloc[train_index], num_target.iloc[train_index])"
   ]
  },
  {
   "cell_type": "code",
   "execution_count": null,
   "metadata": {},
   "outputs": [],
   "source": [
    "x_train.iloc[train_index].head()"
   ]
  },
  {
   "cell_type": "code",
   "execution_count": 103,
   "metadata": {},
   "outputs": [
    {
     "data": {
      "text/plain": [
       "array([-6.98184538e-02,  8.43400742e-02,  1.12281744e-04, -7.68682321e-04,\n",
       "        2.22306226e-05,  4.17021149e-05,  4.33368901e-05, -2.95427634e-03,\n",
       "       -1.95761992e-03])"
      ]
     },
     "execution_count": 103,
     "metadata": {},
     "output_type": "execute_result"
    }
   ],
   "source": [
    "reg.coef_"
   ]
  },
  {
   "cell_type": "code",
   "execution_count": null,
   "metadata": {},
   "outputs": [],
   "source": [
    "sklearn.feature_selection.f_regression(x_train.iloc[train_index], num_target.iloc[train_index])"
   ]
  },
  {
   "cell_type": "code",
   "execution_count": null,
   "metadata": {},
   "outputs": [],
   "source": [
    "lin_y_predict = pd.DataFrame(reg.predict(x_train.iloc[validation_index]))\n",
    "y_validation = y_train.iloc[validation_index]"
   ]
  },
  {
   "cell_type": "code",
   "execution_count": null,
   "metadata": {},
   "outputs": [],
   "source": [
    "merge_lin = pd.DataFrame(np.concatenate((lin_y_predict, y_validation), axis = 1), columns = ['predictions', 'returns', 'day'])\n",
    "merge_lin.head()"
   ]
  },
  {
   "cell_type": "code",
   "execution_count": null,
   "metadata": {},
   "outputs": [],
   "source": [
    "result = pd.DataFrame({'day' : merge_lin['day'], 'x' : merge_lin[\"predictions\"]})"
   ]
  },
  {
   "cell_type": "code",
   "execution_count": null,
   "metadata": {},
   "outputs": [],
   "source": [
    "min_x_t = result.groupby('day').min().values\n",
    "max_x_t = result.groupby('day').max().values\n"
   ]
  },
  {
   "cell_type": "code",
   "execution_count": null,
   "metadata": {},
   "outputs": [],
   "source": [
    "df_dates = pd.DataFrame(y_validation['time'].unique(), columns = ['date'])\n",
    "merged_df = pd.DataFrame(np.concatenate((min_x_t, max_x_t, df_dates), axis = 1), columns = ['min_prediction', 'max_prediction', 'day'])\n",
    "merged_df.head()"
   ]
  },
  {
   "cell_type": "code",
   "execution_count": null,
   "metadata": {},
   "outputs": [],
   "source": [
    "result_merged = merged_df.merge(merge_lin, how='left', on=['day'])\n",
    "result_merged.head()"
   ]
  },
  {
   "cell_type": "code",
   "execution_count": null,
   "metadata": {},
   "outputs": [],
   "source": [
    "def conf_val_prediction(df):\n",
    "    if df['predictions'] > 0:\n",
    "        df['conf_val'] = df['predictions']/df['max_prediction']\n",
    "    else:\n",
    "        df['conf_val'] = -df['predictions']/df['min_prediction']\n",
    "    \n",
    "    df['conf_val*returns'] = df['conf_val'] * df['returns']\n",
    "    \n",
    "    return df\n",
    "\n",
    "\n",
    "def lin_metric(df):\n",
    "    result = pd.DataFrame({'day' : df['day'], 'x' : df[\"conf_val*returns\"]})\n",
    "    x_t = result.groupby('day').sum().values\n",
    "    return np.mean(x_t) / np.std(x_t)"
   ]
  },
  {
   "cell_type": "code",
   "execution_count": null,
   "metadata": {},
   "outputs": [],
   "source": [
    "lin_df = result_merged.apply(conf_val_prediction, axis=1)\n",
    "lin_df.head()"
   ]
  },
  {
   "cell_type": "code",
   "execution_count": null,
   "metadata": {},
   "outputs": [],
   "source": [
    "lin_metric(lin_df)"
   ]
  },
  {
   "cell_type": "code",
   "execution_count": null,
   "metadata": {},
   "outputs": [],
   "source": [
    "def plot_lin(df):\n",
    "    result = pd.DataFrame({'day' : df['day'], 'x' : df[\"conf_val*returns\"]})\n",
    "    x_t = result.groupby('day').sum().values\n",
    "    \n",
    "    x_axis = result['day'].unique()\n",
    "    plt.plot_date(x_axis, x_t, linestyle = 'solid', marker = 'None', fmt = 'M')\n",
    "    plt.setp(plt.gca().xaxis.get_majorticklabels(),\n",
    "         'rotation', 90)\n",
    "\n",
    "    plt.gca().xaxis.set_major_locator(matplotlib.dates.MonthLocator())\n",
    "    return plt.show()"
   ]
  },
  {
   "cell_type": "code",
   "execution_count": null,
   "metadata": {},
   "outputs": [],
   "source": [
    "plot_lin(lin_df)"
   ]
  },
  {
   "cell_type": "markdown",
   "metadata": {},
   "source": [
    "**Linear Regression Test**"
   ]
  },
  {
   "cell_type": "code",
   "execution_count": null,
   "metadata": {},
   "outputs": [],
   "source": [
    "test_lin_y_predict = pd.DataFrame(reg.predict(x_test))\n",
    "\n",
    "test_merge_lin = pd.DataFrame(np.concatenate((test_lin_y_predict, y_test), axis = 1), columns = ['predictions', 'returns', 'day'])\n",
    "\n",
    "test_result = pd.DataFrame({'day' : test_merge_lin['day'], 'x' : test_merge_lin[\"predictions\"]})\n",
    "\n",
    "test_min_x_t = test_result.groupby('day').min().values\n",
    "test_max_x_t = test_result.groupby('day').max().values\n",
    "\n",
    "test_df_dates = pd.DataFrame(y_test['time'].unique(), columns = ['date'])\n",
    "test_merged_df = pd.DataFrame(np.concatenate((test_min_x_t, test_max_x_t, test_df_dates), axis = 1), columns = ['min_prediction', 'max_prediction', 'day'])\n",
    "\n",
    "test_result_merged = test_merged_df.merge(test_merge_lin, how='left', on=['day'])\n",
    "\n",
    "test_lin_df = test_result_merged.apply(conf_val_prediction, axis=1)\n",
    "\n",
    "lin_metric(test_lin_df)"
   ]
  },
  {
   "cell_type": "code",
   "execution_count": 115,
   "metadata": {},
   "outputs": [
    {
     "data": {
      "text/plain": [
       "-0.017554786346516194"
      ]
     },
     "execution_count": 115,
     "metadata": {},
     "output_type": "execute_result"
    }
   ],
   "source": [
    "test_lin_y_predict.columns = ['predictions']\n",
    "reg.score(x_test, y_test['returnsOpenNextMktres10'])"
   ]
  },
  {
   "cell_type": "code",
   "execution_count": null,
   "metadata": {},
   "outputs": [],
   "source": [
    "plot_lin(test_lin_df)"
   ]
  },
  {
   "cell_type": "code",
   "execution_count": null,
   "metadata": {},
   "outputs": [],
   "source": [
    "x_test_original = x_test_original[['assetCode', 'time', 'returnsOpenNextMktres10']]\n",
    "x_test_original.columns = ['assetCode', 'day', 'returns']\n",
    "\n",
    "asset_predictions = x_test_original.merge(test_lin_df, how='left', on=['returns', 'day'])\n",
    "asset_predictions = asset_predictions[['assetCode', 'day', 'returns', 'predictions']]"
   ]
  },
  {
   "cell_type": "code",
   "execution_count": null,
   "metadata": {},
   "outputs": [],
   "source": [
    "asset_list = ['AAPL.O', 'GM.N', 'FB.O']\n",
    "asset_predictions = asset_predictions[asset_predictions['assetCode'].isin(asset_list)]"
   ]
  },
  {
   "cell_type": "code",
   "execution_count": null,
   "metadata": {},
   "outputs": [],
   "source": [
    "asset_predictions_apple = asset_predictions[asset_predictions['assetCode'] == 'AAPL.O']\n",
    "asset_predictions_gm = asset_predictions[asset_predictions['assetCode'] == 'GM.N']\n",
    "asset_predictions_fb = asset_predictions[asset_predictions['assetCode'] == 'FB.O']"
   ]
  },
  {
   "cell_type": "markdown",
   "metadata": {},
   "source": [
    "Apple"
   ]
  },
  {
   "cell_type": "code",
   "execution_count": 121,
   "metadata": {},
   "outputs": [
    {
     "data": {
      "image/png": "[encoded data removed]",
      "text/plain": [
       "<Figure size 432x288 with 1 Axes>"
      ]
     },
     "metadata": {},
     "output_type": "display_data"
    }
   ],
   "source": [
    "plt.plot_date(asset_predictions_apple['day'], asset_predictions_apple['returns'], linestyle = 'solid', marker = 'None',\n",
    "              fmt = 'M', color = 'green')\n",
    "plt.plot_date(asset_predictions_apple['day'], asset_predictions_apple['predictions'], linestyle = 'solid', marker = 'None',\n",
    "              fmt = 'M', color = 'red')\n",
    "plt.legend()\n",
    "plt.setp(plt.gca().xaxis.get_majorticklabels(),\n",
    "         'rotation', 90)\n",
    "plt.gca().xaxis.set_major_locator(matplotlib.dates.MonthLocator())"
   ]
  },
  {
   "cell_type": "markdown",
   "metadata": {},
   "source": [
    "Facebook"
   ]
  },
  {
   "cell_type": "code",
   "execution_count": 122,
   "metadata": {},
   "outputs": [
    {
     "data": {
      "image/png": "[encoded data removed]",
      "text/plain": [
       "<Figure size 432x288 with 1 Axes>"
      ]
     },
     "metadata": {},
     "output_type": "display_data"
    }
   ],
   "source": [
    "plt.plot_date(asset_predictions_fb['day'], asset_predictions_fb['returns'], linestyle = 'solid', marker = 'None',\n",
    "              fmt = 'M', color = 'green')\n",
    "plt.plot_date(asset_predictions_fb['day'], asset_predictions_fb['predictions'], linestyle = 'solid', marker = 'None',\n",
    "              fmt = 'M', color = 'red')\n",
    "plt.legend()\n",
    "plt.setp(plt.gca().xaxis.get_majorticklabels(),\n",
    "         'rotation', 90)\n",
    "plt.gca().xaxis.set_major_locator(matplotlib.dates.MonthLocator())"
   ]
  },
  {
   "cell_type": "markdown",
   "metadata": {},
   "source": [
    "General Motors"
   ]
  },
  {
   "cell_type": "code",
   "execution_count": 123,
   "metadata": {},
   "outputs": [
    {
     "data": {
      "image/png": "[encoded data removed]",
      "text/plain": [
       "<Figure size 432x288 with 1 Axes>"
      ]
     },
     "metadata": {},
     "output_type": "display_data"
    }
   ],
   "source": [
    "plt.plot_date(asset_predictions_gm['day'], asset_predictions_gm['returns'], linestyle = 'solid', marker = 'None',\n",
    "              fmt = 'M', color = 'green')\n",
    "plt.plot_date(asset_predictions_gm['day'], asset_predictions_gm['predictions'], linestyle = 'solid', marker = 'None',\n",
    "              fmt = 'M', color = 'red')\n",
    "plt.legend()\n",
    "plt.setp(plt.gca().xaxis.get_majorticklabels(),\n",
    "         'rotation', 90)\n",
    "plt.gca().xaxis.set_major_locator(matplotlib.dates.MonthLocator())"
   ]
  }
 ],
 "metadata": {
  "kernelspec": {
   "display_name": "Python 3",
   "language": "python",
   "name": "python3"
  },
  "language_info": {
   "codemirror_mode": {
    "name": "ipython",
    "version": 3
   },
   "file_extension": ".py",
   "mimetype": "text/x-python",
   "name": "python",
   "nbconvert_exporter": "python",
   "pygments_lexer": "ipython3",
   "version": "3.6.5"
  }
 },
 "nbformat": 4,
 "nbformat_minor": 1
}
